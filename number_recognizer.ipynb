{
  "nbformat": 4,
  "nbformat_minor": 0,
  "metadata": {
    "colab": {
      "provenance": [],
      "authorship_tag": "ABX9TyPNZqzhEhEmUU8z2s5Dxazj",
      "include_colab_link": true
    },
    "kernelspec": {
      "name": "python3",
      "display_name": "Python 3"
    },
    "language_info": {
      "name": "python"
    }
  },
  "cells": [
    {
      "cell_type": "markdown",
      "metadata": {
        "id": "view-in-github",
        "colab_type": "text"
      },
      "source": [
        "<a href=\"https://colab.research.google.com/github/OgGaurja/MachineLearningAiProjects/blob/main/number_recognizer.ipynb\" target=\"_parent\"><img src=\"https://colab.research.google.com/assets/colab-badge.svg\" alt=\"Open In Colab\"/></a>"
      ]
    },
    {
      "cell_type": "markdown",
      "source": [
        "#Importing Libraries"
      ],
      "metadata": {
        "id": "gtxQ-iprTiyF"
      }
    },
    {
      "cell_type": "code",
      "source": [
        "import tensorflow as tf\n",
        "import matplotlib.pyplot as plt"
      ],
      "metadata": {
        "id": "kXBFOSBOTl0G"
      },
      "execution_count": null,
      "outputs": []
    },
    {
      "cell_type": "code",
      "source": [
        "print(f\"Tensforflow version {tf.__version__}\")"
      ],
      "metadata": {
        "id": "bwI4pZfnTxLC",
        "colab": {
          "base_uri": "https://localhost:8080/"
        },
        "outputId": "23f4d238-bffb-453b-f254-8e3f97808592"
      },
      "execution_count": null,
      "outputs": [
        {
          "output_type": "stream",
          "name": "stdout",
          "text": [
            "Tensforflow version 2.15.0\n"
          ]
        }
      ]
    },
    {
      "cell_type": "markdown",
      "source": [
        "##Load dataset"
      ],
      "metadata": {
        "id": "Rzo0mOypTnzq"
      }
    },
    {
      "cell_type": "code",
      "source": [
        "mnist = tf.keras.datasets.mnist\n",
        "print(mnist)\n",
        "(x_train,y_train) , (x_test,y_test)=mnist.load_data()"
      ],
      "metadata": {
        "id": "YepGcZTnT_A7",
        "colab": {
          "base_uri": "https://localhost:8080/"
        },
        "outputId": "75164a74-3f00-4fb2-c0e0-83fc394b1d06"
      },
      "execution_count": null,
      "outputs": [
        {
          "output_type": "stream",
          "name": "stdout",
          "text": [
            "<module 'keras.api._v2.keras.datasets.mnist' from '/usr/local/lib/python3.10/dist-packages/keras/api/_v2/keras/datasets/mnist/__init__.py'>\n",
            "Downloading data from https://storage.googleapis.com/tensorflow/tf-keras-datasets/mnist.npz\n",
            "11490434/11490434 [==============================] - 1s 0us/step\n"
          ]
        }
      ]
    },
    {
      "cell_type": "code",
      "source": [
        "print(x_train.shape)\n",
        "print(x_test.shape)\n",
        "print(y_train.shape)\n",
        "print(y_test.shape)"
      ],
      "metadata": {
        "id": "om0Zi_D3UUfl",
        "colab": {
          "base_uri": "https://localhost:8080/"
        },
        "outputId": "a9b66406-e506-4f6b-c636-e0866fb1fc83"
      },
      "execution_count": null,
      "outputs": [
        {
          "output_type": "stream",
          "name": "stdout",
          "text": [
            "(60000, 28, 28)\n",
            "(10000, 28, 28)\n",
            "(60000,)\n",
            "(10000,)\n"
          ]
        }
      ]
    },
    {
      "cell_type": "markdown",
      "source": [
        "##Scaling of Pixels"
      ],
      "metadata": {
        "id": "ytpvlk5fUlMl"
      }
    },
    {
      "cell_type": "code",
      "source": [
        "x_train,x_test = x_train/255 , x_test/255"
      ],
      "metadata": {
        "id": "R4Z35ZSuUn7A"
      },
      "execution_count": null,
      "outputs": []
    },
    {
      "cell_type": "markdown",
      "source": [
        "##See my images"
      ],
      "metadata": {
        "id": "slSsD_jrXjm8"
      }
    },
    {
      "cell_type": "markdown",
      "source": [
        "##Cmap. ?? now is black and red"
      ],
      "metadata": {
        "id": "tHN1hwlafqQz"
      }
    },
    {
      "cell_type": "code",
      "source": [
        "# fix, ax = plt.subplots()\n",
        "for ind in range(0,8):\n",
        "  plt.subplot(2,4, ind+1)\n",
        "  image = x_train[ind]\n",
        "  plt.imshow(image, cmap='magma')\n",
        "  plt.title(y_train[ind])\n",
        "  plt.axis('off')\n",
        "  plt.suptitle('Train images')\n"
      ],
      "metadata": {
        "id": "3BvbexIbZdWM",
        "colab": {
          "base_uri": "https://localhost:8080/",
          "height": 424
        },
        "outputId": "26555593-25b0-4ea0-ad11-628170c1db2a"
      },
      "execution_count": null,
      "outputs": [
        {
          "output_type": "display_data",
          "data": {
            "text/plain": [
              "<Figure size 640x480 with 8 Axes>"
            ],
            "image/png": "[encoded data removed]"
          },
          "metadata": {}
        }
      ]
    },
    {
      "cell_type": "markdown",
      "source": [
        "#Show Test images"
      ],
      "metadata": {
        "id": "MK3EIEnRe-L7"
      }
    },
    {
      "cell_type": "code",
      "source": [
        "for ind in range(0,8):\n",
        "  plt.subplot(2,4,ind+1)\n",
        "  image = x_test[ind]\n",
        "  plt.imshow(image,cmap ='magma')\n",
        "  plt.axis('off')\n",
        "  plt.suptitle('Test images')\n",
        "  plt.title(y_test[ind])"
      ],
      "metadata": {
        "id": "m5H4Y94HgAFi",
        "colab": {
          "base_uri": "https://localhost:8080/",
          "height": 424
        },
        "outputId": "253d1dd5-eeca-4750-fa71-a7c07d6a5901"
      },
      "execution_count": null,
      "outputs": [
        {
          "output_type": "display_data",
          "data": {
            "text/plain": [
              "<Figure size 640x480 with 8 Axes>"
            ],
            "image/png": "[encoded data removed]"
          },
          "metadata": {}
        }
      ]
    },
    {
      "cell_type": "code",
      "source": [
        "import numpy as np\n",
        "def make_image(data, outputname, size=(1, 1), dpi=80):\n",
        "    fig = plt.figure()\n",
        "    fig.set_size_inches(size)\n",
        "    ax = plt.Axes(fig, [0., 0., 1., 1.])\n",
        "    ax.set_axis_off()\n",
        "    fig.add_axes(ax)\n",
        "    plt.set_cmap('hot')\n",
        "    ax.imshow(data, aspect='equal')\n",
        "    plt.savefig(outputname, dpi=dpi)\n",
        "\n",
        "# data = mpimg.imread(inputname)[:,:,0]\n",
        "data = np.arange(1,10).reshape((3, 3))\n",
        "\n",
        "make_image(data, '/tmp/out.png')\n"
      ],
      "metadata": {
        "id": "gbW47j4chge4",
        "colab": {
          "base_uri": "https://localhost:8080/",
          "height": 137
        },
        "outputId": "bcad87bb-0340-4c3f-d84a-6d90846a45cf"
      },
      "execution_count": null,
      "outputs": [
        {
          "output_type": "display_data",
          "data": {
            "text/plain": [
              "<Figure size 100x100 with 1 Axes>"
            ],
            "image/png": "[encoded data removed]"
          },
          "metadata": {}
        }
      ]
    },
    {
      "cell_type": "markdown",
      "source": [
        "#CNN"
      ],
      "metadata": {
        "id": "E7P04fshiNIZ"
      }
    },
    {
      "cell_type": "code",
      "source": [
        "model = tf.keras.models.Sequential([\n",
        "  tf.keras.layers.Flatten(input_shape=(28, 28)),\n",
        "  tf.keras.layers.Dense(128, activation='relu'),\n",
        "  tf.keras.layers.Dropout(0.2),\n",
        "  tf.keras.layers.Dense(10, activation='softmax')\n",
        "])"
      ],
      "metadata": {
        "id": "aH_Gna3FqyjE"
      },
      "execution_count": null,
      "outputs": []
    },
    {
      "cell_type": "markdown",
      "source": [
        "##Compile"
      ],
      "metadata": {
        "id": "0w5mRl46d8RO"
      }
    },
    {
      "cell_type": "code",
      "source": [
        "model.compile(optimizer='adam',loss='sparse_categorical_crossentropy', metrics = ['accuracy'])\n"
      ],
      "metadata": {
        "id": "ZQIRt-Apd-ug"
      },
      "execution_count": null,
      "outputs": []
    },
    {
      "cell_type": "markdown",
      "source": [
        "##Fit the model"
      ],
      "metadata": {
        "id": "CMFBADR5eRZ0"
      }
    },
    {
      "cell_type": "markdown",
      "source": [
        "##Concept of Callbacks"
      ],
      "metadata": {
        "id": "Z2drI0mLe0Bw"
      }
    },
    {
      "cell_type": "code",
      "source": [
        "class myCallback(tf.keras.callbacks.Callback):\n",
        "  def on_epoch_end(self, epoch, logs={}):\n",
        "    if(logs.get('accuracy')>0.99):\n",
        "      print(\"\\nReached 99.0% accuracy so cancelling training!\")\n",
        "      self.model.stop_training = True"
      ],
      "metadata": {
        "id": "Fw706YBJeUo0"
      },
      "execution_count": null,
      "outputs": []
    },
    {
      "cell_type": "code",
      "source": [
        "model.fit(x_train,y_train,epochs = 50, callbacks=[myCallback()])"
      ],
      "metadata": {
        "id": "CzMv9rMnenc-",
        "colab": {
          "base_uri": "https://localhost:8080/"
        },
        "outputId": "2cb6dbea-b791-44e7-ad15-22a7f803f43e"
      },
      "execution_count": null,
      "outputs": [
        {
          "output_type": "stream",
          "name": "stdout",
          "text": [
            "Epoch 1/50\n",
            "1875/1875 [==============================] - 19s 9ms/step - loss: 0.2930 - accuracy: 0.9147\n",
            "Epoch 2/50\n",
            "1875/1875 [==============================] - 12s 6ms/step - loss: 0.1411 - accuracy: 0.9585\n",
            "Epoch 3/50\n",
            "1875/1875 [==============================] - 7s 4ms/step - loss: 0.1086 - accuracy: 0.9675\n",
            "Epoch 4/50\n",
            "1875/1875 [==============================] - 8s 4ms/step - loss: 0.0873 - accuracy: 0.9731\n",
            "Epoch 5/50\n",
            "1875/1875 [==============================] - 8s 4ms/step - loss: 0.0774 - accuracy: 0.9758\n",
            "Epoch 6/50\n",
            "1875/1875 [==============================] - 7s 4ms/step - loss: 0.0654 - accuracy: 0.9795\n",
            "Epoch 7/50\n",
            "1875/1875 [==============================] - 8s 4ms/step - loss: 0.0577 - accuracy: 0.9814\n",
            "Epoch 8/50\n",
            "1875/1875 [==============================] - 9s 5ms/step - loss: 0.0522 - accuracy: 0.9828\n",
            "Epoch 9/50\n",
            "1875/1875 [==============================] - 8s 4ms/step - loss: 0.0483 - accuracy: 0.9841\n",
            "Epoch 10/50\n",
            "1875/1875 [==============================] - 8s 4ms/step - loss: 0.0444 - accuracy: 0.9854\n",
            "Epoch 11/50\n",
            "1875/1875 [==============================] - 7s 4ms/step - loss: 0.0416 - accuracy: 0.9859\n",
            "Epoch 12/50\n",
            "1875/1875 [==============================] - 8s 4ms/step - loss: 0.0396 - accuracy: 0.9866\n",
            "Epoch 13/50\n",
            "1875/1875 [==============================] - 7s 4ms/step - loss: 0.0358 - accuracy: 0.9881\n",
            "Epoch 14/50\n",
            "1875/1875 [==============================] - 8s 4ms/step - loss: 0.0341 - accuracy: 0.9886\n",
            "Epoch 15/50\n",
            "1875/1875 [==============================] - 8s 4ms/step - loss: 0.0336 - accuracy: 0.9884\n",
            "Epoch 16/50\n",
            "1875/1875 [==============================] - 7s 4ms/step - loss: 0.0304 - accuracy: 0.9894\n",
            "Epoch 17/50\n",
            "1868/1875 [============================>.] - ETA: 0s - loss: 0.0289 - accuracy: 0.9904\n",
            "Reached 99.0% accuracy so cancelling training!\n",
            "1875/1875 [==============================] - 8s 4ms/step - loss: 0.0289 - accuracy: 0.9904\n"
          ]
        },
        {
          "output_type": "execute_result",
          "data": {
            "text/plain": [
              "<keras.src.callbacks.History at 0x7c44fb16d600>"
            ]
          },
          "metadata": {},
          "execution_count": 12
        }
      ]
    },
    {
      "cell_type": "markdown",
      "source": [
        "#Validate"
      ],
      "metadata": {
        "id": "6YXE4wrJe3FP"
      }
    },
    {
      "cell_type": "code",
      "source": [
        "model.evaluate(x_test,y_test)"
      ],
      "metadata": {
        "colab": {
          "base_uri": "https://localhost:8080/"
        },
        "id": "B9el5oAIe6Te",
        "outputId": "18359c3a-7fe5-4686-813e-212e57ede919"
      },
      "execution_count": null,
      "outputs": [
        {
          "output_type": "stream",
          "name": "stdout",
          "text": [
            "313/313 [==============================] - 1s 2ms/step - loss: 0.0704 - accuracy: 0.9820\n"
          ]
        },
        {
          "output_type": "execute_result",
          "data": {
            "text/plain": [
              "[0.07042760401964188, 0.9819999933242798]"
            ]
          },
          "metadata": {},
          "execution_count": 13
        }
      ]
    },
    {
      "cell_type": "markdown",
      "source": [
        "##Random image generator"
      ],
      "metadata": {
        "id": "lk8CtbkvvLmN"
      }
    },
    {
      "cell_type": "code",
      "source": [
        "import random"
      ],
      "metadata": {
        "id": "nhIewOZyvOWV"
      },
      "execution_count": null,
      "outputs": []
    },
    {
      "cell_type": "code",
      "source": [
        "imgNum = random.randint(0,10000)\n",
        "print(f\"Image index-- {imgNum} \")"
      ],
      "metadata": {
        "colab": {
          "base_uri": "https://localhost:8080/"
        },
        "id": "E3BEbMFDvUyu",
        "outputId": "fe330be4-ca12-4356-def0-3a3fa2d089b2"
      },
      "execution_count": null,
      "outputs": [
        {
          "output_type": "stream",
          "name": "stdout",
          "text": [
            "Image index-- 494 \n"
          ]
        }
      ]
    },
    {
      "cell_type": "markdown",
      "source": [
        "##Image test"
      ],
      "metadata": {
        "id": "gpWA16sYpthQ"
      }
    },
    {
      "cell_type": "code",
      "source": [
        "single_test = x_test[imgNum]\n",
        "print(single_test.shape)\n",
        "print(y_test[imgNum])\n",
        "plt.imshow(single_test)\n"
      ],
      "metadata": {
        "colab": {
          "base_uri": "https://localhost:8080/"
        },
        "id": "VzJCrZSXpvXj",
        "outputId": "8619f6ae-29f0-4e32-9b48-d69886568dd7"
      },
      "execution_count": null,
      "outputs": [
        {
          "output_type": "stream",
          "name": "stdout",
          "text": [
            "(28, 28)\n",
            "7\n"
          ]
        },
        {
          "output_type": "execute_result",
          "data": {
            "text/plain": [
              "<matplotlib.image.AxesImage at 0x7c44fa7e53f0>"
            ]
          },
          "metadata": {},
          "execution_count": 16
        },
        {
          "output_type": "display_data",
          "data": {
            "text/plain": [
              "<Figure size 640x480 with 1 Axes>"
            ],
            "image/png": "[encoded data removed]"
          },
          "metadata": {}
        }
      ]
    },
    {
      "cell_type": "markdown",
      "source": [
        "##Expanding dimensions"
      ],
      "metadata": {
        "id": "6mHMlGusrf28"
      }
    },
    {
      "cell_type": "code",
      "source": [
        "single_test = np.expand_dims(single_test,0)\n",
        "print(single_test)"
      ],
      "metadata": {
        "colab": {
          "base_uri": "https://localhost:8080/"
        },
        "id": "IMozSV-trhvY",
        "outputId": "98c9d89a-f928-4493-f425-ffb94d3ec63c"
      },
      "execution_count": null,
      "outputs": [
        {
          "output_type": "stream",
          "name": "stdout",
          "text": [
            "[[[0.         0.         0.         0.         0.         0.\n",
            "   0.         0.         0.         0.         0.         0.\n",
            "   0.         0.         0.         0.         0.         0.\n",
            "   0.         0.         0.         0.         0.         0.\n",
            "   0.         0.         0.         0.        ]\n",
            "  [0.         0.         0.         0.         0.         0.\n",
            "   0.         0.         0.         0.         0.         0.\n",
            "   0.         0.         0.         0.         0.         0.\n",
            "   0.         0.         0.         0.         0.         0.\n",
            "   0.         0.         0.         0.        ]\n",
            "  [0.         0.         0.         0.         0.         0.\n",
            "   0.         0.         0.         0.         0.         0.\n",
            "   0.         0.         0.         0.         0.         0.\n",
            "   0.         0.         0.         0.         0.         0.\n",
            "   0.         0.         0.         0.        ]\n",
            "  [0.         0.         0.         0.         0.         0.\n",
            "   0.         0.         0.         0.         0.         0.\n",
            "   0.         0.         0.         0.         0.         0.\n",
            "   0.         0.         0.         0.         0.         0.\n",
            "   0.         0.         0.         0.        ]\n",
            "  [0.         0.         0.         0.         0.         0.\n",
            "   0.         0.         0.         0.         0.         0.\n",
            "   0.         0.         0.         0.         0.         0.\n",
            "   0.         0.         0.         0.         0.         0.\n",
            "   0.         0.         0.         0.        ]\n",
            "  [0.         0.         0.         0.         0.         0.\n",
            "   0.         0.         0.         0.         0.         0.\n",
            "   0.         0.         0.         0.         0.         0.\n",
            "   0.         0.         0.         0.         0.         0.\n",
            "   0.         0.         0.         0.        ]\n",
            "  [0.         0.         0.         0.         0.         0.\n",
            "   0.         0.         0.         0.         0.         0.\n",
            "   0.         0.         0.         0.         0.         0.\n",
            "   0.         0.         0.         0.         0.         0.\n",
            "   0.         0.         0.         0.        ]\n",
            "  [0.         0.         0.         0.         0.         0.14117647\n",
            "   1.         1.         0.99607843 0.58431373 0.31764706 0.49411765\n",
            "   0.07058824 0.29019608 0.21176471 0.31764706 0.31764706 0.08235294\n",
            "   0.07058824 0.05882353 0.         0.         0.         0.\n",
            "   0.         0.         0.         0.        ]\n",
            "  [0.         0.         0.         0.         0.         0.14117647\n",
            "   0.99215686 0.99215686 0.99215686 0.99215686 0.99215686 0.99215686\n",
            "   0.99215686 0.99215686 0.99215686 0.99215686 0.99215686 0.99215686\n",
            "   0.99215686 0.92156863 0.23529412 0.         0.         0.\n",
            "   0.         0.         0.         0.        ]\n",
            "  [0.         0.         0.         0.         0.         0.11372549\n",
            "   0.9254902  0.99215686 0.99215686 0.99215686 0.89411765 0.99215686\n",
            "   0.99215686 0.99215686 0.89411765 0.99215686 0.99215686 0.99215686\n",
            "   0.99215686 0.99215686 0.90980392 0.14117647 0.         0.\n",
            "   0.         0.         0.         0.        ]\n",
            "  [0.         0.         0.         0.         0.         0.\n",
            "   0.17254902 0.25490196 0.25490196 0.25490196 0.1372549  0.29803922\n",
            "   0.42352941 0.25490196 0.27843137 0.3254902  0.6745098  0.85882353\n",
            "   0.99215686 0.99215686 0.99215686 0.54901961 0.         0.\n",
            "   0.         0.         0.         0.        ]\n",
            "  [0.         0.         0.         0.         0.         0.\n",
            "   0.         0.         0.         0.         0.         0.\n",
            "   0.         0.         0.         0.         0.         0.50980392\n",
            "   0.99215686 0.99215686 0.99215686 0.66666667 0.         0.\n",
            "   0.         0.         0.         0.        ]\n",
            "  [0.         0.         0.         0.         0.         0.\n",
            "   0.         0.         0.         0.         0.         0.\n",
            "   0.         0.         0.         0.         0.         0.70588235\n",
            "   0.99215686 0.99215686 0.88627451 0.38823529 0.         0.\n",
            "   0.         0.         0.         0.        ]\n",
            "  [0.         0.         0.         0.         0.         0.\n",
            "   0.         0.         0.         0.         0.         0.\n",
            "   0.         0.         0.         0.         0.65098039 0.99215686\n",
            "   0.99215686 0.99215686 0.50980392 0.         0.         0.\n",
            "   0.         0.         0.         0.        ]\n",
            "  [0.         0.         0.         0.         0.         0.\n",
            "   0.         0.         0.         0.         0.         0.\n",
            "   0.         0.         0.         0.         0.90588235 0.99215686\n",
            "   0.99215686 0.97647059 0.25098039 0.         0.         0.\n",
            "   0.         0.         0.         0.        ]\n",
            "  [0.         0.         0.         0.         0.         0.\n",
            "   0.         0.         0.         0.         0.         0.\n",
            "   0.         0.         0.         0.31372549 0.96078431 0.99215686\n",
            "   0.9372549  0.35686275 0.         0.         0.         0.\n",
            "   0.         0.         0.         0.        ]\n",
            "  [0.         0.         0.         0.         0.         0.\n",
            "   0.         0.         0.         0.         0.         0.\n",
            "   0.         0.         0.0745098  0.87058824 0.99215686 0.99215686\n",
            "   0.91372549 0.10588235 0.         0.         0.         0.\n",
            "   0.         0.         0.         0.        ]\n",
            "  [0.         0.         0.         0.         0.         0.\n",
            "   0.         0.         0.         0.         0.         0.\n",
            "   0.         0.         0.30588235 0.99215686 0.99215686 0.98039216\n",
            "   0.39607843 0.         0.         0.         0.         0.\n",
            "   0.         0.         0.         0.        ]\n",
            "  [0.         0.         0.         0.         0.         0.\n",
            "   0.         0.         0.         0.         0.         0.\n",
            "   0.         0.         0.69019608 0.99215686 0.99215686 0.94509804\n",
            "   0.         0.         0.         0.         0.         0.\n",
            "   0.         0.         0.         0.        ]\n",
            "  [0.         0.         0.         0.         0.         0.\n",
            "   0.         0.         0.         0.         0.         0.\n",
            "   0.         0.30980392 0.86666667 0.99215686 0.99215686 0.32156863\n",
            "   0.         0.         0.         0.         0.         0.\n",
            "   0.         0.         0.         0.        ]\n",
            "  [0.         0.         0.         0.         0.         0.\n",
            "   0.         0.         0.         0.         0.         0.00784314\n",
            "   0.41960784 0.98823529 0.99215686 0.99215686 0.74509804 0.01176471\n",
            "   0.         0.         0.         0.         0.         0.\n",
            "   0.         0.         0.         0.        ]\n",
            "  [0.         0.         0.         0.         0.         0.\n",
            "   0.         0.         0.         0.         0.         0.14901961\n",
            "   0.99215686 0.99215686 0.99215686 0.99215686 0.09019608 0.\n",
            "   0.         0.         0.         0.         0.         0.\n",
            "   0.         0.         0.         0.        ]\n",
            "  [0.         0.         0.         0.         0.         0.\n",
            "   0.         0.         0.         0.         0.00784314 0.63921569\n",
            "   0.99215686 0.99215686 0.99215686 0.74901961 0.03137255 0.\n",
            "   0.         0.         0.         0.         0.         0.\n",
            "   0.         0.         0.         0.        ]\n",
            "  [0.         0.         0.         0.         0.         0.\n",
            "   0.         0.         0.         0.         0.36078431 0.99215686\n",
            "   0.99215686 0.99215686 0.79607843 0.24705882 0.         0.\n",
            "   0.         0.         0.         0.         0.         0.\n",
            "   0.         0.         0.         0.        ]\n",
            "  [0.         0.         0.         0.         0.         0.\n",
            "   0.         0.         0.         0.         0.49019608 0.99215686\n",
            "   0.99215686 0.99215686 0.44705882 0.         0.         0.\n",
            "   0.         0.         0.         0.         0.         0.\n",
            "   0.         0.         0.         0.        ]\n",
            "  [0.         0.         0.         0.         0.         0.\n",
            "   0.         0.         0.         0.         0.49019608 0.99215686\n",
            "   0.99215686 0.60784314 0.03137255 0.         0.         0.\n",
            "   0.         0.         0.         0.         0.         0.\n",
            "   0.         0.         0.         0.        ]\n",
            "  [0.         0.         0.         0.         0.         0.\n",
            "   0.         0.         0.         0.         0.04313725 0.78823529\n",
            "   0.91764706 0.16078431 0.         0.         0.         0.\n",
            "   0.         0.         0.         0.         0.         0.\n",
            "   0.         0.         0.         0.        ]\n",
            "  [0.         0.         0.         0.         0.         0.\n",
            "   0.         0.         0.         0.         0.         0.\n",
            "   0.         0.         0.         0.         0.         0.\n",
            "   0.         0.         0.         0.         0.         0.\n",
            "   0.         0.         0.         0.        ]]]\n"
          ]
        }
      ]
    },
    {
      "cell_type": "markdown",
      "source": [
        "##Single prediction"
      ],
      "metadata": {
        "id": "bDXIjtM_qsdy"
      }
    },
    {
      "cell_type": "code",
      "source": [
        "single_pred = model.predict(single_test)\n",
        "# print(single_pred[0][1])\n",
        "# print(single_pred)\n",
        "b = np.argmax(single_pred)\n",
        "print(f\"Confidence --> {single_pred[0][b]}, Prediction --> {b}\")"
      ],
      "metadata": {
        "colab": {
          "base_uri": "https://localhost:8080/"
        },
        "id": "SsBrAqmnquMp",
        "outputId": "20c87c3e-f208-4f63-c6ef-d215937af362"
      },
      "execution_count": null,
      "outputs": [
        {
          "output_type": "stream",
          "name": "stdout",
          "text": [
            "1/1 [==============================] - 0s 96ms/step\n",
            "Confidence --> 1.0, Prediction --> 7\n"
          ]
        }
      ]
    },
    {
      "cell_type": "markdown",
      "source": [
        "##Save model"
      ],
      "metadata": {
        "id": "v1HSVifRffI1"
      }
    },
    {
      "cell_type": "code",
      "source": [
        "tf.saved_model.save(model, \"./models/mnist\")"
      ],
      "metadata": {
        "id": "poZH6D-Dfhv6"
      },
      "execution_count": null,
      "outputs": []
    },
    {
      "cell_type": "markdown",
      "source": [
        "##Convert"
      ],
      "metadata": {
        "id": "HAQjt5abfyg9"
      }
    },
    {
      "cell_type": "code",
      "source": [
        "converter = tf.lite.TFLiteConverter.from_saved_model('models/mnist')\n",
        "tflite_model = converter.convert()"
      ],
      "metadata": {
        "id": "AoCO4q99f0F_"
      },
      "execution_count": null,
      "outputs": []
    },
    {
      "cell_type": "markdown",
      "source": [
        "##Save again into the models folder"
      ],
      "metadata": {
        "id": "GuCkjRtIgApi"
      }
    },
    {
      "cell_type": "code",
      "source": [
        "open(\"models/converted_mnist_model.tflite\", \"wb\").write(tflite_model)"
      ],
      "metadata": {
        "colab": {
          "base_uri": "https://localhost:8080/"
        },
        "id": "6scCVg3ggDgk",
        "outputId": "31f4a214-1b45-4237-b870-19c5504e6d8d"
      },
      "execution_count": null,
      "outputs": [
        {
          "output_type": "execute_result",
          "data": {
            "text/plain": [
              "409060"
            ]
          },
          "metadata": {},
          "execution_count": 21
        }
      ]
    },
    {
      "cell_type": "markdown",
      "source": [
        "##Predict for a single prediction"
      ],
      "metadata": {
        "id": "ULW_jDBBo1A3"
      }
    }
  ]
}